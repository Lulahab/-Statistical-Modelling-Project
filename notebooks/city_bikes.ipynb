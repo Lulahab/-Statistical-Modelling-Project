{
 "cells": [
  {
   "cell_type": "markdown",
   "metadata": {},
   "source": [
    "Send a request to CityBikes for the city of your choice. "
   ]
  },
  {
   "cell_type": "markdown",
   "metadata": {},
   "source": [
    "# CityBikes"
   ]
  },
  {
   "cell_type": "code",
   "execution_count": 2,
   "metadata": {},
   "outputs": [
    {
     "name": "stdout",
     "output_type": "stream",
     "text": [
      "succesfully connected to the citybikes API\n",
      "Luxembourg network found: Veloh\n"
     ]
    }
   ],
   "source": [
    "#send a request to the citybike \n",
    "import requests ## for getting API\n",
    "import pandas as pd ## for data manipulation\n",
    "\n",
    "## define the base url \n",
    "base_url=  \"https://api.citybik.es/v2/networks\"\n",
    "##get the network data\n",
    "response=requests.get(base_url)\n",
    "##check if the request was succesful\n",
    "if response.status_code==200:\n",
    "    print(\"succesfully connected to the citybikes API\")\n",
    "    networks_data=response.json() ##parse the jason response\n",
    "else:\n",
    "    raise Exception(f\"Failed to connect. Status code: {response.status_code}\")\n",
    "## filter the network luxembourg\n",
    "luxembourg_network= next(\n",
    "    (network for network in networks_data['networks'] if network['location']['city'].lower()==\"luxembourg\"),\n",
    "    None\n",
    ")\n",
    "\n",
    "if luxembourg_network:\n",
    "    print(f\"Luxembourg network found: {luxembourg_network['name']}\")\n",
    "    luxembourg_network_url = f\"{base_url}/{luxembourg_network['id']}\"\n",
    "else:\n",
    "    raise Exception(\"luxembourg netwok not found in the API data\")"
   ]
  },
  {
   "cell_type": "markdown",
   "metadata": {},
   "source": [
    "Parse through the response to get the details you want for the bike stations in that city (latitude, longitude, number of bikes). "
   ]
  },
  {
   "cell_type": "code",
   "execution_count": 3,
   "metadata": {},
   "outputs": [
    {
     "name": "stdout",
     "output_type": "stream",
     "text": [
      "Successfully fetched Luxembourg's network data.\n"
     ]
    }
   ],
   "source": [
    "\n",
    "# Fetch data for Luxembourg's bike-sharing network\n",
    "lux_response = requests.get(luxembourg_network_url)\n",
    "\n",
    "\n",
    "if lux_response.status_code == 200:\n",
    "    lux_data = lux_response.json()  # Parse JSON response into a Python dictionary\n",
    "    print(\"Successfully fetched Luxembourg's network data.\")\n",
    "else:\n",
    "    raise Exception(f\"Failed to fetch Luxembourg data. Status code: {lux_response.status_code}\")\n",
    "\n",
    "stations = lux_data['network']['stations']\n",
    "\n",
    "\n",
    "# Extract relevant fields from each station\n",
    "station_data = [\n",
    "    {\n",
    "        \"station_name\": station.get(\"name\"),\n",
    "        \"latitude\": station.get(\"latitude\"),\n",
    "        \"longitude\": station.get(\"longitude\"),\n",
    "        \"num_bikes\": station.get(\"free_bikes\"),\n",
    "        \"num_empty_slots\": station.get(\"empty_slots\")\n",
    "    }\n",
    "    for station in stations\n",
    "]"
   ]
  },
  {
   "cell_type": "markdown",
   "metadata": {},
   "source": [
    "Put your parsed results into a DataFrame."
   ]
  },
  {
   "cell_type": "code",
   "execution_count": 4,
   "metadata": {},
   "outputs": [
    {
     "name": "stdout",
     "output_type": "stream",
     "text": [
      "Bike Stations DataFrame:\n",
      "                     station_name   latitude  longitude  num_bikes  \\\n",
      "0  #00126-SALLES DES FÊTES HOLZEM  49.615901   5.993194          8   \n",
      "1                    #00109-FOYER  49.569178   6.081750          4   \n",
      "2     #00053-LUDWIG VAN BEETHOVEN  49.590000   6.117200          7   \n",
      "3                #00013-GELLE FRA  49.609510   6.128503          4   \n",
      "4         #00116-CHARLY'S STATION  49.649823   6.225796          0   \n",
      "\n",
      "   num_empty_slots  \n",
      "0                9  \n",
      "1               11  \n",
      "2               13  \n",
      "3               20  \n",
      "4               20  \n"
     ]
    }
   ],
   "source": [
    "station_df = pd.DataFrame(station_data)\n",
    "\n",
    "print(\"Bike Stations DataFrame:\")\n",
    "print(station_df.head())"
   ]
  },
  {
   "cell_type": "code",
   "execution_count": 5,
   "metadata": {},
   "outputs": [
    {
     "data": {
      "text/plain": [
       "(147, 5)"
      ]
     },
     "execution_count": 5,
     "metadata": {},
     "output_type": "execute_result"
    }
   ],
   "source": [
    "station_df.shape"
   ]
  }
 ],
 "metadata": {
  "kernelspec": {
   "display_name": "base",
   "language": "python",
   "name": "python3"
  },
  "language_info": {
   "codemirror_mode": {
    "name": "ipython",
    "version": 3
   },
   "file_extension": ".py",
   "mimetype": "text/x-python",
   "name": "python",
   "nbconvert_exporter": "python",
   "pygments_lexer": "ipython3",
   "version": "3.12.7"
  }
 },
 "nbformat": 4,
 "nbformat_minor": 4
}
