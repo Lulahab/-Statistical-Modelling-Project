{
 "cells": [
  {
   "cell_type": "code",
   "execution_count": 24,
   "metadata": {},
   "outputs": [
    {
     "name": "stdout",
     "output_type": "stream",
     "text": [
      "API keys loaded successfully!\n"
     ]
    }
   ],
   "source": [
    "# imports\n",
    "# Import necessary libraries\n",
    "import requests  # For API requests\n",
    "import pandas as pd  # For data handling\n",
    "from dotenv  import load_dotenv # For loading .env variables\n",
    "import os # For accessing environment variables\n",
    "\n",
    "# Load environment variables from .env file\n",
    "load_dotenv()\n",
    "\n",
    "# Load API keys\n",
    "FOURSQUARE_API_KEY = os.getenv(\"FOURSQUARE_API_KEY\")\n",
    "\n",
    "# Verify API keys\n",
    "if FOURSQUARE_API_KEY:\n",
    "    print(\"API keys loaded successfully!\")\n",
    "else:\n",
    "    print(\"Error: API keys not loaded. Check your .env file.\")"
   ]
  },
  {
   "cell_type": "markdown",
   "metadata": {},
   "source": [
    "# Foursquare"
   ]
  },
  {
   "cell_type": "markdown",
   "metadata": {},
   "source": [
    "Send a request to Foursquare with a small radius (1000m) for all the bike stations in your city of choice. "
   ]
  },
  {
   "cell_type": "code",
   "execution_count": 35,
   "metadata": {},
   "outputs": [],
   "source": [
    "\n",
    "# Foursquare API setup\n",
    "foursquare_url = \"https://api.foursquare.com/v3/places/search\"\n",
    "headers = {\"Authorization\": FOURSQUARE_API_KEY,\n",
    "           \"accept\":\"application/json\"}\n",
    "\n",
    "def query_foursquare(latitude, longitude, radius=1000, category=\"restaurants,bars\"):\n",
    "    \"\"\"\n",
    "    Query Foursquare API for POIs near a given latitude and longitude.\n",
    "    \"\"\"\n",
    "    params = {\n",
    "        \"ll\": f\"{latitude},{longitude}\",  # Latitude and longitude\n",
    "        \"radius\": radius,  # Search radius in meters\n",
    "        \"categories\": category,  # Restaurants/Bars\n",
    "        \"limit\": 50  # Number of results\n",
    "    }\n",
    "    try:\n",
    "        response = requests.get(foursquare_url, headers=headers, params=params, timeout = 300)\n",
    "        response.raise_for_status()\n",
    "        return response.json().get(\"results\", [])\n",
    "    except requests.exceptions.RequestException as e:\n",
    "        print(f\"Foursquare API Error: {e}\")\n",
    "    return []\n",
    "\n",
    "\n"
   ]
  },
  {
   "cell_type": "markdown",
   "metadata": {},
   "source": [
    "Parse through the response to get the POI (such as restaurants, bars, etc) details you want (ratings, name, location, etc)"
   ]
  },
  {
   "cell_type": "code",
   "execution_count": 36,
   "metadata": {},
   "outputs": [
    {
     "name": "stdout",
     "output_type": "stream",
     "text": [
      "Foursquare API Error: 400 Client Error: Bad Request for url: https://api.foursquare.com/v3/places/search?ll=49.615901%2C5.993194&radius=1000&categories=restaurants%2Cbars&limit=50\n",
      "Foursquare API Error: 400 Client Error: Bad Request for url: https://api.foursquare.com/v3/places/search?ll=49.569178%2C6.08175&radius=1000&categories=restaurants%2Cbars&limit=50\n",
      "Foursquare API Error: 400 Client Error: Bad Request for url: https://api.foursquare.com/v3/places/search?ll=49.59%2C6.1172&radius=1000&categories=restaurants%2Cbars&limit=50\n",
      "Foursquare API Error: 400 Client Error: Bad Request for url: https://api.foursquare.com/v3/places/search?ll=49.60951%2C6.128503&radius=1000&categories=restaurants%2Cbars&limit=50\n",
      "Foursquare API Error: 400 Client Error: Bad Request for url: https://api.foursquare.com/v3/places/search?ll=49.649823%2C6.225796&radius=1000&categories=restaurants%2Cbars&limit=50\n",
      "Foursquare API Error: 400 Client Error: Bad Request for url: https://api.foursquare.com/v3/places/search?ll=49.637327%2C6.164573&radius=1000&categories=restaurants%2Cbars&limit=50\n",
      "Foursquare API Error: 400 Client Error: Bad Request for url: https://api.foursquare.com/v3/places/search?ll=49.618823%2C6.136324&radius=1000&categories=restaurants%2Cbars&limit=50\n",
      "Foursquare API Error: 400 Client Error: Bad Request for url: https://api.foursquare.com/v3/places/search?ll=49.571924%2C6.15965&radius=1000&categories=restaurants%2Cbars&limit=50\n",
      "Foursquare API Error: 400 Client Error: Bad Request for url: https://api.foursquare.com/v3/places/search?ll=49.657941%2C6.231683&radius=1000&categories=restaurants%2Cbars&limit=50\n",
      "Foursquare API Error: 400 Client Error: Bad Request for url: https://api.foursquare.com/v3/places/search?ll=49.60771%2C6.13456&radius=1000&categories=restaurants%2Cbars&limit=50\n",
      "Foursquare API Error: 400 Client Error: Bad Request for url: https://api.foursquare.com/v3/places/search?ll=49.61925%2C6.10842&radius=1000&categories=restaurants%2Cbars&limit=50\n",
      "Foursquare API Error: 400 Client Error: Bad Request for url: https://api.foursquare.com/v3/places/search?ll=49.602989%2C6.136083&radius=1000&categories=restaurants%2Cbars&limit=50\n",
      "Foursquare API Error: 400 Client Error: Bad Request for url: https://api.foursquare.com/v3/places/search?ll=49.611317%2C6.120003&radius=1000&categories=restaurants%2Cbars&limit=50\n",
      "Foursquare API Error: 400 Client Error: Bad Request for url: https://api.foursquare.com/v3/places/search?ll=49.613339%2C6.125794&radius=1000&categories=restaurants%2Cbars&limit=50\n",
      "Foursquare API Error: 400 Client Error: Bad Request for url: https://api.foursquare.com/v3/places/search?ll=49.599846%2C6.122565&radius=1000&categories=restaurants%2Cbars&limit=50\n",
      "Foursquare API Error: 400 Client Error: Bad Request for url: https://api.foursquare.com/v3/places/search?ll=49.622397%2C6.036232&radius=1000&categories=restaurants%2Cbars&limit=50\n",
      "Foursquare API Error: 400 Client Error: Bad Request for url: https://api.foursquare.com/v3/places/search?ll=49.60289%2C6.09322&radius=1000&categories=restaurants%2Cbars&limit=50\n",
      "Foursquare API Error: 400 Client Error: Bad Request for url: https://api.foursquare.com/v3/places/search?ll=49.627159%2C6.031948&radius=1000&categories=restaurants%2Cbars&limit=50\n",
      "Foursquare API Error: 400 Client Error: Bad Request for url: https://api.foursquare.com/v3/places/search?ll=49.6059%2C6.1199&radius=1000&categories=restaurants%2Cbars&limit=50\n",
      "Foursquare API Error: 400 Client Error: Bad Request for url: https://api.foursquare.com/v3/places/search?ll=49.568074%2C6.163927&radius=1000&categories=restaurants%2Cbars&limit=50\n",
      "Foursquare API Error: 400 Client Error: Bad Request for url: https://api.foursquare.com/v3/places/search?ll=49.62019%2C6.172682&radius=1000&categories=restaurants%2Cbars&limit=50\n",
      "Foursquare API Error: 400 Client Error: Bad Request for url: https://api.foursquare.com/v3/places/search?ll=49.613316%2C6.117582&radius=1000&categories=restaurants%2Cbars&limit=50\n",
      "Foursquare API Error: 400 Client Error: Bad Request for url: https://api.foursquare.com/v3/places/search?ll=49.61561%2C6.13097&radius=1000&categories=restaurants%2Cbars&limit=50\n",
      "Foursquare API Error: 400 Client Error: Bad Request for url: https://api.foursquare.com/v3/places/search?ll=49.609583%2C6.119523&radius=1000&categories=restaurants%2Cbars&limit=50\n",
      "Foursquare API Error: 400 Client Error: Bad Request for url: https://api.foursquare.com/v3/places/search?ll=49.641375%2C6.001651&radius=1000&categories=restaurants%2Cbars&limit=50\n",
      "Foursquare API Error: 400 Client Error: Bad Request for url: https://api.foursquare.com/v3/places/search?ll=49.5911%2C6.1057&radius=1000&categories=restaurants%2Cbars&limit=50\n",
      "Foursquare API Error: 400 Client Error: Bad Request for url: https://api.foursquare.com/v3/places/search?ll=49.59383%2C6.14327&radius=1000&categories=restaurants%2Cbars&limit=50\n",
      "Foursquare API Error: 400 Client Error: Bad Request for url: https://api.foursquare.com/v3/places/search?ll=49.633322%2C6.136676&radius=1000&categories=restaurants%2Cbars&limit=50\n",
      "Foursquare API Error: 400 Client Error: Bad Request for url: https://api.foursquare.com/v3/places/search?ll=49.617566%2C6.165165&radius=1000&categories=restaurants%2Cbars&limit=50\n",
      "Foursquare API Error: 400 Client Error: Bad Request for url: https://api.foursquare.com/v3/places/search?ll=49.603694%2C6.130189&radius=1000&categories=restaurants%2Cbars&limit=50\n",
      "Foursquare API Error: 400 Client Error: Bad Request for url: https://api.foursquare.com/v3/places/search?ll=49.649839%2C6.127978&radius=1000&categories=restaurants%2Cbars&limit=50\n",
      "Foursquare API Error: 400 Client Error: Bad Request for url: https://api.foursquare.com/v3/places/search?ll=49.594088%2C6.125123&radius=1000&categories=restaurants%2Cbars&limit=50\n",
      "Foursquare API Error: 400 Client Error: Bad Request for url: https://api.foursquare.com/v3/places/search?ll=49.645239%2C5.987938&radius=1000&categories=restaurants%2Cbars&limit=50\n",
      "Foursquare API Error: 400 Client Error: Bad Request for url: https://api.foursquare.com/v3/places/search?ll=49.60001%2C6.10826&radius=1000&categories=restaurants%2Cbars&limit=50\n",
      "Foursquare API Error: 400 Client Error: Bad Request for url: https://api.foursquare.com/v3/places/search?ll=49.605818%2C6.129062&radius=1000&categories=restaurants%2Cbars&limit=50\n",
      "Foursquare API Error: 400 Client Error: Bad Request for url: https://api.foursquare.com/v3/places/search?ll=49.63189%2C6.021562&radius=1000&categories=restaurants%2Cbars&limit=50\n",
      "Foursquare API Error: 400 Client Error: Bad Request for url: https://api.foursquare.com/v3/places/search?ll=49.598613%2C6.117957&radius=1000&categories=restaurants%2Cbars&limit=50\n",
      "Foursquare API Error: 400 Client Error: Bad Request for url: https://api.foursquare.com/v3/places/search?ll=49.587633%2C6.170123&radius=1000&categories=restaurants%2Cbars&limit=50\n",
      "Foursquare API Error: 400 Client Error: Bad Request for url: https://api.foursquare.com/v3/places/search?ll=49.5842%2C6.1249&radius=1000&categories=restaurants%2Cbars&limit=50\n",
      "Foursquare API Error: 400 Client Error: Bad Request for url: https://api.foursquare.com/v3/places/search?ll=49.586766%2C6.122404&radius=1000&categories=restaurants%2Cbars&limit=50\n",
      "Foursquare API Error: 400 Client Error: Bad Request for url: https://api.foursquare.com/v3/places/search?ll=49.579231%2C6.134018&radius=1000&categories=restaurants%2Cbars&limit=50\n",
      "Foursquare API Error: 400 Client Error: Bad Request for url: https://api.foursquare.com/v3/places/search?ll=49.608758%2C6.149591&radius=1000&categories=restaurants%2Cbars&limit=50\n",
      "Foursquare API Error: 400 Client Error: Bad Request for url: https://api.foursquare.com/v3/places/search?ll=49.631952%2C6.17048&radius=1000&categories=restaurants%2Cbars&limit=50\n",
      "Foursquare API Error: 400 Client Error: Bad Request for url: https://api.foursquare.com/v3/places/search?ll=49.601652%2C6.145533&radius=1000&categories=restaurants%2Cbars&limit=50\n",
      "Foursquare API Error: 400 Client Error: Bad Request for url: https://api.foursquare.com/v3/places/search?ll=49.619061%2C6.1323&radius=1000&categories=restaurants%2Cbars&limit=50\n",
      "Foursquare API Error: 400 Client Error: Bad Request for url: https://api.foursquare.com/v3/places/search?ll=49.567771%2C6.152463&radius=1000&categories=restaurants%2Cbars&limit=50\n",
      "Foursquare API Error: 400 Client Error: Bad Request for url: https://api.foursquare.com/v3/places/search?ll=49.58043%2C6.11465&radius=1000&categories=restaurants%2Cbars&limit=50\n",
      "Foursquare API Error: 400 Client Error: Bad Request for url: https://api.foursquare.com/v3/places/search?ll=49.61258%2C6.12391&radius=1000&categories=restaurants%2Cbars&limit=50\n",
      "Foursquare API Error: 400 Client Error: Bad Request for url: https://api.foursquare.com/v3/places/search?ll=49.646906%2C6.134279&radius=1000&categories=restaurants%2Cbars&limit=50\n",
      "Foursquare API Error: 400 Client Error: Bad Request for url: https://api.foursquare.com/v3/places/search?ll=49.61212%2C6.09749&radius=1000&categories=restaurants%2Cbars&limit=50\n",
      "Foursquare API Error: 400 Client Error: Bad Request for url: https://api.foursquare.com/v3/places/search?ll=49.608146%2C6.111627&radius=1000&categories=restaurants%2Cbars&limit=50\n",
      "Foursquare API Error: 400 Client Error: Bad Request for url: https://api.foursquare.com/v3/places/search?ll=49.5986%2C6.132119&radius=1000&categories=restaurants%2Cbars&limit=50\n",
      "Foursquare API Error: 400 Client Error: Bad Request for url: https://api.foursquare.com/v3/places/search?ll=49.565477%2C6.079436&radius=1000&categories=restaurants%2Cbars&limit=50\n",
      "Foursquare API Error: 400 Client Error: Bad Request for url: https://api.foursquare.com/v3/places/search?ll=49.613161%2C6.060382&radius=1000&categories=restaurants%2Cbars&limit=50\n",
      "Foursquare API Error: 400 Client Error: Bad Request for url: https://api.foursquare.com/v3/places/search?ll=49.616669%2C6.126069&radius=1000&categories=restaurants%2Cbars&limit=50\n",
      "Foursquare API Error: 400 Client Error: Bad Request for url: https://api.foursquare.com/v3/places/search?ll=49.6264%2C6.1613&radius=1000&categories=restaurants%2Cbars&limit=50\n",
      "Foursquare API Error: 400 Client Error: Bad Request for url: https://api.foursquare.com/v3/places/search?ll=49.62521%2C6.13938&radius=1000&categories=restaurants%2Cbars&limit=50\n",
      "Foursquare API Error: 400 Client Error: Bad Request for url: https://api.foursquare.com/v3/places/search?ll=49.618073%2C6.037591&radius=1000&categories=restaurants%2Cbars&limit=50\n",
      "Foursquare API Error: 400 Client Error: Bad Request for url: https://api.foursquare.com/v3/places/search?ll=49.603644%2C6.077783&radius=1000&categories=restaurants%2Cbars&limit=50\n",
      "Foursquare API Error: 400 Client Error: Bad Request for url: https://api.foursquare.com/v3/places/search?ll=49.60481%2C6.133404&radius=1000&categories=restaurants%2Cbars&limit=50\n",
      "Foursquare API Error: 400 Client Error: Bad Request for url: https://api.foursquare.com/v3/places/search?ll=49.6238%2C6.1188&radius=1000&categories=restaurants%2Cbars&limit=50\n",
      "Foursquare API Error: 400 Client Error: Bad Request for url: https://api.foursquare.com/v3/places/search?ll=49.6219%2C6.1118&radius=1000&categories=restaurants%2Cbars&limit=50\n",
      "Foursquare API Error: 400 Client Error: Bad Request for url: https://api.foursquare.com/v3/places/search?ll=49.583377%2C6.115817&radius=1000&categories=restaurants%2Cbars&limit=50\n",
      "Foursquare API Error: 400 Client Error: Bad Request for url: https://api.foursquare.com/v3/places/search?ll=49.644089%2C5.992759&radius=1000&categories=restaurants%2Cbars&limit=50\n",
      "Foursquare API Error: 400 Client Error: Bad Request for url: https://api.foursquare.com/v3/places/search?ll=49.57681%2C6.110465&radius=1000&categories=restaurants%2Cbars&limit=50\n",
      "Foursquare API Error: 400 Client Error: Bad Request for url: https://api.foursquare.com/v3/places/search?ll=49.651348%2C6.255547&radius=1000&categories=restaurants%2Cbars&limit=50\n",
      "Foursquare API Error: 400 Client Error: Bad Request for url: https://api.foursquare.com/v3/places/search?ll=49.625695%2C6.020409&radius=1000&categories=restaurants%2Cbars&limit=50\n",
      "Foursquare API Error: 400 Client Error: Bad Request for url: https://api.foursquare.com/v3/places/search?ll=49.635423%2C6.176061&radius=1000&categories=restaurants%2Cbars&limit=50\n",
      "Foursquare API Error: 400 Client Error: Bad Request for url: https://api.foursquare.com/v3/places/search?ll=49.62915%2C6.173101&radius=1000&categories=restaurants%2Cbars&limit=50\n",
      "Foursquare API Error: 400 Client Error: Bad Request for url: https://api.foursquare.com/v3/places/search?ll=49.61909%2C6.07227&radius=1000&categories=restaurants%2Cbars&limit=50\n",
      "Foursquare API Error: 400 Client Error: Bad Request for url: https://api.foursquare.com/v3/places/search?ll=49.600415%2C6.129234&radius=1000&categories=restaurants%2Cbars&limit=50\n",
      "Foursquare API Error: 400 Client Error: Bad Request for url: https://api.foursquare.com/v3/places/search?ll=49.629363%2C6.017927&radius=1000&categories=restaurants%2Cbars&limit=50\n",
      "Foursquare API Error: 400 Client Error: Bad Request for url: https://api.foursquare.com/v3/places/search?ll=49.617394%2C6.047817&radius=1000&categories=restaurants%2Cbars&limit=50\n",
      "Foursquare API Error: 400 Client Error: Bad Request for url: https://api.foursquare.com/v3/places/search?ll=49.58914%2C6.099213&radius=1000&categories=restaurants%2Cbars&limit=50\n",
      "Foursquare API Error: 400 Client Error: Bad Request for url: https://api.foursquare.com/v3/places/search?ll=49.620607%2C6.147885&radius=1000&categories=restaurants%2Cbars&limit=50\n",
      "Foursquare API Error: 400 Client Error: Bad Request for url: https://api.foursquare.com/v3/places/search?ll=49.609904%2C6.106099&radius=1000&categories=restaurants%2Cbars&limit=50\n",
      "Foursquare API Error: 400 Client Error: Bad Request for url: https://api.foursquare.com/v3/places/search?ll=49.61489%2C6.07275&radius=1000&categories=restaurants%2Cbars&limit=50\n",
      "Foursquare API Error: 400 Client Error: Bad Request for url: https://api.foursquare.com/v3/places/search?ll=49.627834%2C6.122333&radius=1000&categories=restaurants%2Cbars&limit=50\n",
      "Foursquare API Error: 400 Client Error: Bad Request for url: https://api.foursquare.com/v3/places/search?ll=49.601051%2C6.133744&radius=1000&categories=restaurants%2Cbars&limit=50\n",
      "Foursquare API Error: 400 Client Error: Bad Request for url: https://api.foursquare.com/v3/places/search?ll=49.58574%2C6.171965&radius=1000&categories=restaurants%2Cbars&limit=50\n",
      "Foursquare API Error: 400 Client Error: Bad Request for url: https://api.foursquare.com/v3/places/search?ll=49.6301%2C6.16843&radius=1000&categories=restaurants%2Cbars&limit=50\n",
      "Foursquare API Error: 400 Client Error: Bad Request for url: https://api.foursquare.com/v3/places/search?ll=49.567305%2C6.064291&radius=1000&categories=restaurants%2Cbars&limit=50\n",
      "Foursquare API Error: 400 Client Error: Bad Request for url: https://api.foursquare.com/v3/places/search?ll=49.596838%2C6.140615&radius=1000&categories=restaurants%2Cbars&limit=50\n",
      "Foursquare API Error: 400 Client Error: Bad Request for url: https://api.foursquare.com/v3/places/search?ll=49.620586%2C6.138998&radius=1000&categories=restaurants%2Cbars&limit=50\n",
      "Foursquare API Error: 400 Client Error: Bad Request for url: https://api.foursquare.com/v3/places/search?ll=49.6122%2C6.1072&radius=1000&categories=restaurants%2Cbars&limit=50\n",
      "Foursquare API Error: 400 Client Error: Bad Request for url: https://api.foursquare.com/v3/places/search?ll=49.62187%2C6.051072&radius=1000&categories=restaurants%2Cbars&limit=50\n",
      "Foursquare API Error: 400 Client Error: Bad Request for url: https://api.foursquare.com/v3/places/search?ll=49.623341%2C6.143717&radius=1000&categories=restaurants%2Cbars&limit=50\n",
      "Foursquare API Error: 400 Client Error: Bad Request for url: https://api.foursquare.com/v3/places/search?ll=49.65314%2C6.245365&radius=1000&categories=restaurants%2Cbars&limit=50\n",
      "Foursquare API Error: 400 Client Error: Bad Request for url: https://api.foursquare.com/v3/places/search?ll=49.604577%2C6.111927&radius=1000&categories=restaurants%2Cbars&limit=50\n",
      "Foursquare API Error: 400 Client Error: Bad Request for url: https://api.foursquare.com/v3/places/search?ll=49.61086%2C6.08097&radius=1000&categories=restaurants%2Cbars&limit=50\n",
      "Foursquare API Error: 400 Client Error: Bad Request for url: https://api.foursquare.com/v3/places/search?ll=49.614749%2C6.164772&radius=1000&categories=restaurants%2Cbars&limit=50\n",
      "Foursquare API Error: 400 Client Error: Bad Request for url: https://api.foursquare.com/v3/places/search?ll=49.66151%2C6.135785&radius=1000&categories=restaurants%2Cbars&limit=50\n",
      "Foursquare API Error: 400 Client Error: Bad Request for url: https://api.foursquare.com/v3/places/search?ll=49.607346%2C6.12762&radius=1000&categories=restaurants%2Cbars&limit=50\n",
      "Foursquare API Error: 400 Client Error: Bad Request for url: https://api.foursquare.com/v3/places/search?ll=49.57337%2C6.14397&radius=1000&categories=restaurants%2Cbars&limit=50\n",
      "Foursquare API Error: 400 Client Error: Bad Request for url: https://api.foursquare.com/v3/places/search?ll=49.634283%2C6.166633&radius=1000&categories=restaurants%2Cbars&limit=50\n",
      "Foursquare API Error: 400 Client Error: Bad Request for url: https://api.foursquare.com/v3/places/search?ll=49.6294701613971%2C6.11780413988129&radius=1000&categories=restaurants%2Cbars&limit=50\n",
      "Foursquare API Error: 400 Client Error: Bad Request for url: https://api.foursquare.com/v3/places/search?ll=49.58421%2C6.14202&radius=1000&categories=restaurants%2Cbars&limit=50\n",
      "Foursquare API Error: 400 Client Error: Bad Request for url: https://api.foursquare.com/v3/places/search?ll=49.625714%2C6.148347&radius=1000&categories=restaurants%2Cbars&limit=50\n",
      "Foursquare API Error: 400 Client Error: Bad Request for url: https://api.foursquare.com/v3/places/search?ll=49.606983%2C6.154863&radius=1000&categories=restaurants%2Cbars&limit=50\n",
      "Foursquare API Error: 400 Client Error: Bad Request for url: https://api.foursquare.com/v3/places/search?ll=49.600592%2C6.065794&radius=1000&categories=restaurants%2Cbars&limit=50\n",
      "Foursquare API Error: 400 Client Error: Bad Request for url: https://api.foursquare.com/v3/places/search?ll=49.619439%2C6.140894&radius=1000&categories=restaurants%2Cbars&limit=50\n",
      "Foursquare API Error: 400 Client Error: Bad Request for url: https://api.foursquare.com/v3/places/search?ll=49.59691%2C6.147957&radius=1000&categories=restaurants%2Cbars&limit=50\n",
      "Foursquare API Error: 400 Client Error: Bad Request for url: https://api.foursquare.com/v3/places/search?ll=49.629448%2C6.157348&radius=1000&categories=restaurants%2Cbars&limit=50\n",
      "Foursquare API Error: 400 Client Error: Bad Request for url: https://api.foursquare.com/v3/places/search?ll=49.6162%2C6.0984&radius=1000&categories=restaurants%2Cbars&limit=50\n",
      "Foursquare API Error: 400 Client Error: Bad Request for url: https://api.foursquare.com/v3/places/search?ll=49.586736%2C6.05966&radius=1000&categories=restaurants%2Cbars&limit=50\n",
      "Foursquare API Error: 400 Client Error: Bad Request for url: https://api.foursquare.com/v3/places/search?ll=49.619345%2C6.143907&radius=1000&categories=restaurants%2Cbars&limit=50\n",
      "Foursquare API Error: 400 Client Error: Bad Request for url: https://api.foursquare.com/v3/places/search?ll=49.6017%2C6.1331&radius=1000&categories=restaurants%2Cbars&limit=50\n",
      "Foursquare API Error: 400 Client Error: Bad Request for url: https://api.foursquare.com/v3/places/search?ll=49.598211%2C6.137526&radius=1000&categories=restaurants%2Cbars&limit=50\n",
      "Foursquare API Error: 400 Client Error: Bad Request for url: https://api.foursquare.com/v3/places/search?ll=49.645359%2C6.128075&radius=1000&categories=restaurants%2Cbars&limit=50\n",
      "Foursquare API Error: 400 Client Error: Bad Request for url: https://api.foursquare.com/v3/places/search?ll=49.622956%2C6.074244&radius=1000&categories=restaurants%2Cbars&limit=50\n",
      "Foursquare API Error: 400 Client Error: Bad Request for url: https://api.foursquare.com/v3/places/search?ll=49.580898%2C6.131494&radius=1000&categories=restaurants%2Cbars&limit=50\n",
      "Foursquare API Error: 400 Client Error: Bad Request for url: https://api.foursquare.com/v3/places/search?ll=49.60164%2C6.13736&radius=1000&categories=restaurants%2Cbars&limit=50\n",
      "Foursquare API Error: 400 Client Error: Bad Request for url: https://api.foursquare.com/v3/places/search?ll=49.620066%2C6.122905&radius=1000&categories=restaurants%2Cbars&limit=50\n",
      "Foursquare API Error: 400 Client Error: Bad Request for url: https://api.foursquare.com/v3/places/search?ll=49.638604%2C5.982361&radius=1000&categories=restaurants%2Cbars&limit=50\n",
      "Foursquare API Error: 400 Client Error: Bad Request for url: https://api.foursquare.com/v3/places/search?ll=49.60136%2C6.11581&radius=1000&categories=restaurants%2Cbars&limit=50\n",
      "Foursquare API Error: 400 Client Error: Bad Request for url: https://api.foursquare.com/v3/places/search?ll=49.658862%2C6.130167&radius=1000&categories=restaurants%2Cbars&limit=50\n",
      "Foursquare API Error: 400 Client Error: Bad Request for url: https://api.foursquare.com/v3/places/search?ll=49.591404%2C6.125333&radius=1000&categories=restaurants%2Cbars&limit=50\n",
      "Foursquare API Error: 400 Client Error: Bad Request for url: https://api.foursquare.com/v3/places/search?ll=49.61349%2C6.17066&radius=1000&categories=restaurants%2Cbars&limit=50\n",
      "Foursquare API Error: 400 Client Error: Bad Request for url: https://api.foursquare.com/v3/places/search?ll=49.60361%2C6.10278&radius=1000&categories=restaurants%2Cbars&limit=50\n",
      "Foursquare API Error: 400 Client Error: Bad Request for url: https://api.foursquare.com/v3/places/search?ll=49.60625%2C6.105961&radius=1000&categories=restaurants%2Cbars&limit=50\n",
      "Foursquare API Error: 400 Client Error: Bad Request for url: https://api.foursquare.com/v3/places/search?ll=49.62635%2C6.022996&radius=1000&categories=restaurants%2Cbars&limit=50\n",
      "Foursquare API Error: 400 Client Error: Bad Request for url: https://api.foursquare.com/v3/places/search?ll=49.610126%2C6.132084&radius=1000&categories=restaurants%2Cbars&limit=50\n",
      "Foursquare API Error: 400 Client Error: Bad Request for url: https://api.foursquare.com/v3/places/search?ll=49.6168333870108%2C6.05420384349982&radius=1000&categories=restaurants%2Cbars&limit=50\n",
      "Foursquare API Error: 400 Client Error: Bad Request for url: https://api.foursquare.com/v3/places/search?ll=49.6147%2C6.1211&radius=1000&categories=restaurants%2Cbars&limit=50\n",
      "Foursquare API Error: 400 Client Error: Bad Request for url: https://api.foursquare.com/v3/places/search?ll=49.60751%2C6.045842&radius=1000&categories=restaurants%2Cbars&limit=50\n",
      "Foursquare API Error: 400 Client Error: Bad Request for url: https://api.foursquare.com/v3/places/search?ll=49.62297%2C6.15497&radius=1000&categories=restaurants%2Cbars&limit=50\n",
      "Foursquare API Error: 400 Client Error: Bad Request for url: https://api.foursquare.com/v3/places/search?ll=49.61769%2C6.08276&radius=1000&categories=restaurants%2Cbars&limit=50\n",
      "Foursquare API Error: 400 Client Error: Bad Request for url: https://api.foursquare.com/v3/places/search?ll=49.629865%2C6.166252&radius=1000&categories=restaurants%2Cbars&limit=50\n",
      "Foursquare API Error: 400 Client Error: Bad Request for url: https://api.foursquare.com/v3/places/search?ll=49.6146%2C6.14283&radius=1000&categories=restaurants%2Cbars&limit=50\n",
      "Foursquare API Error: 400 Client Error: Bad Request for url: https://api.foursquare.com/v3/places/search?ll=49.623154%2C6.024879&radius=1000&categories=restaurants%2Cbars&limit=50\n",
      "Foursquare API Error: 400 Client Error: Bad Request for url: https://api.foursquare.com/v3/places/search?ll=49.623901%2C6.150013&radius=1000&categories=restaurants%2Cbars&limit=50\n",
      "Foursquare API Error: 400 Client Error: Bad Request for url: https://api.foursquare.com/v3/places/search?ll=49.612782%2C6.131208&radius=1000&categories=restaurants%2Cbars&limit=50\n",
      "Foursquare API Error: 400 Client Error: Bad Request for url: https://api.foursquare.com/v3/places/search?ll=49.616795%2C6.058614&radius=1000&categories=restaurants%2Cbars&limit=50\n",
      "Foursquare API Error: 400 Client Error: Bad Request for url: https://api.foursquare.com/v3/places/search?ll=49.619953%2C6.063326&radius=1000&categories=restaurants%2Cbars&limit=50\n",
      "Foursquare API Error: 400 Client Error: Bad Request for url: https://api.foursquare.com/v3/places/search?ll=49.60563%2C6.10003&radius=1000&categories=restaurants%2Cbars&limit=50\n",
      "Foursquare API Error: 400 Client Error: Bad Request for url: https://api.foursquare.com/v3/places/search?ll=49.653525%2C6.127049&radius=1000&categories=restaurants%2Cbars&limit=50\n",
      "Foursquare API Error: 400 Client Error: Bad Request for url: https://api.foursquare.com/v3/places/search?ll=49.61093%2C6.051527&radius=1000&categories=restaurants%2Cbars&limit=50\n",
      "Foursquare API Error: 400 Client Error: Bad Request for url: https://api.foursquare.com/v3/places/search?ll=49.623837%2C6.160642&radius=1000&categories=restaurants%2Cbars&limit=50\n",
      "Foursquare API Error: 400 Client Error: Bad Request for url: https://api.foursquare.com/v3/places/search?ll=49.642519%2C5.99179&radius=1000&categories=restaurants%2Cbars&limit=50\n",
      "Foursquare API Error: 400 Client Error: Bad Request for url: https://api.foursquare.com/v3/places/search?ll=49.5911%2C6.1416&radius=1000&categories=restaurants%2Cbars&limit=50\n",
      "Foursquare API Error: 400 Client Error: Bad Request for url: https://api.foursquare.com/v3/places/search?ll=49.604944%2C6.05228&radius=1000&categories=restaurants%2Cbars&limit=50\n",
      "Foursquare API Error: 400 Client Error: Bad Request for url: https://api.foursquare.com/v3/places/search?ll=49.580242%2C6.120862&radius=1000&categories=restaurants%2Cbars&limit=50\n",
      "Foursquare API Error: 400 Client Error: Bad Request for url: https://api.foursquare.com/v3/places/search?ll=49.610738%2C6.126743&radius=1000&categories=restaurants%2Cbars&limit=50\n",
      "Foursquare API Error: 400 Client Error: Bad Request for url: https://api.foursquare.com/v3/places/search?ll=49.628293%2C6.133301&radius=1000&categories=restaurants%2Cbars&limit=50\n",
      "Foursquare API Error: 400 Client Error: Bad Request for url: https://api.foursquare.com/v3/places/search?ll=49.632179%2C6.174446&radius=1000&categories=restaurants%2Cbars&limit=50\n",
      "Foursquare API Error: 400 Client Error: Bad Request for url: https://api.foursquare.com/v3/places/search?ll=49.659778%2C6.241714&radius=1000&categories=restaurants%2Cbars&limit=50\n",
      "Foursquare API Error: 400 Client Error: Bad Request for url: https://api.foursquare.com/v3/places/search?ll=49.612542%2C6.147918&radius=1000&categories=restaurants%2Cbars&limit=50\n"
     ]
    }
   ],
   "source": [
    "# Load bike station data\n",
    "station_df = pd.read_csv(\"luxembourg_bike_stations.csv\")\n",
    "\n",
    "# Store Foursquare data\n",
    "foursquare_data = []\n",
    "\n",
    "# Loop through bike stations and query Foursquare\n",
    "for _, row in station_df.iterrows():\n",
    "    station_name = row[\"station_name\"]\n",
    "    latitude = row[\"latitude\"]\n",
    "    longitude = row[\"longitude\"]\n",
    "    \n",
    "    fsq_results = query_foursquare(latitude, longitude)\n",
    "    for result in fsq_results:\n",
    "        if \"name\" in result and \"geocodes\" in result and \"main\" in result[\"geocodes\"]:\n",
    "            foursquare_data.append({\n",
    "                \"station_name\": station_name,\n",
    "                \"poi_name\": result.get(\"name\"),\n",
    "                \"category\": result[\"categories\"][0][\"name\"] if result.get(\"categories\") else None,\n",
    "                \"latitude\": result[\"geocodes\"][\"main\"][\"latitude\"],\n",
    "                \"longitude\": result[\"geocodes\"][\"main\"][\"longitude\"]\n",
    "            })\n"
   ]
  },
  {
   "cell_type": "markdown",
   "metadata": {},
   "source": [
    "Put your parsed results into a DataFrame"
   ]
  },
  {
   "cell_type": "code",
   "execution_count": 31,
   "metadata": {},
   "outputs": [
    {
     "name": "stdout",
     "output_type": "stream",
     "text": [
      "Foursquare DataFrame:\n",
      "                     station_name                poi_name  \\\n",
      "0  #00126-SALLES DES FÊTES HOLZEM       Restaurant Papaya   \n",
      "1                    #00109-FOYER  Burger King Leudelange   \n",
      "2                    #00109-FOYER              Spackelter   \n",
      "3                    #00109-FOYER    Les Espaces Réunions   \n",
      "4                    #00109-FOYER      Il Punto Delizioso   \n",
      "\n",
      "               category   latitude  longitude  \n",
      "0      Sushi Restaurant  49.616679   5.993284  \n",
      "1  Fast Food Restaurant  49.567216   6.079689  \n",
      "2                 Diner  49.562383   6.067011  \n",
      "3     French Restaurant  49.563044   6.072636  \n",
      "4              Pizzeria  49.565284   6.080453  \n"
     ]
    }
   ],
   "source": [
    " ##Create a DataFrame for Foursquare data\n",
    "foursquare_df = pd.DataFrame(foursquare_data)\n",
    "print(\"Foursquare DataFrame:\")\n",
    "print(foursquare_df.head())"
   ]
  },
  {
   "cell_type": "code",
   "execution_count": null,
   "metadata": {},
   "outputs": [],
   "source": [
    "\n"
   ]
  },
  {
   "cell_type": "markdown",
   "metadata": {},
   "source": [
    "# Yelp"
   ]
  },
  {
   "cell_type": "markdown",
   "metadata": {},
   "source": [
    "Send a request to Yelp with a small radius (1000m) for all the bike stations in your city of choice. "
   ]
  },
  {
   "cell_type": "code",
   "execution_count": 2,
   "metadata": {},
   "outputs": [
    {
     "name": "stdout",
     "output_type": "stream",
     "text": [
      "API keys loaded successfully!\n"
     ]
    }
   ],
   "source": [
    "# Yelp API setup\n",
    "# Load environment variables from .env file\n",
    "import requests\n",
    "from dotenv import load_dotenv\n",
    "import os\n",
    "\n",
    "load_dotenv()\n",
    "\n",
    "# Load API keys\n",
    "YELP_API_KEY = os.getenv(\"YELP_API_KEY\")\n",
    "\n",
    "# Verify API keys\n",
    "if YELP_API_KEY:\n",
    "    print(\"API keys loaded successfully!\")\n",
    "else:\n",
    "    print(\"Error: API keys not loaded. Check your .env file.\")\n",
    "yelp_url = \"https://api.yelp.com/v3/businesses/search\"\n",
    "yelp_headers = {\"Authorization\": f\"Bearer {YELP_API_KEY}\"}\n",
    "\n",
    "def query_yelp(latitude, longitude, radius=1000, categories=\"restaurants,bars\"):\n",
    "    \"\"\"\n",
    "    Query Yelp API for POIs near a given latitude and longitude.\n",
    "    \"\"\"\n",
    "    params = {\n",
    "        \"latitude\": latitude,\n",
    "        \"longitude\": longitude,\n",
    "        \"radius\": radius,\n",
    "        \"categories\": categories,\n",
    "        \"limit\": 50  # Number of results\n",
    "    }\n",
    "    try:\n",
    "        response = requests.get(yelp_url, headers=yelp_headers, params=params)\n",
    "        response.raise_for_status()\n",
    "        return response.json().get(\"businesses\", [])\n",
    "    except requests.exceptions.RequestException as e:\n",
    "        print(f\"Yelp API Error: {e}\")\n",
    "        return []\n",
    "\n",
    "\n"
   ]
  },
  {
   "cell_type": "markdown",
   "metadata": {},
   "source": [
    "Parse through the response to get the POI (such as restaurants, bars, etc) details you want (ratings, name, location, etc)"
   ]
  },
  {
   "cell_type": "code",
   "execution_count": 32,
   "metadata": {},
   "outputs": [],
   "source": [
    " ##Load bike station data\n",
    "import pandas as pd\n",
    "station_df = pd.read_csv(\"luxembourg_bike_stations.csv\")\n",
    "\n",
    "## Store Yelp data\n",
    "yelp_data = []\n",
    "\n",
    "# Loop through bike stations and query Yelp\n",
    "for _, row in station_df.iterrows():\n",
    "    station_name = row[\"station_name\"]\n",
    "    latitude = row[\"latitude\"]\n",
    "    longitude = row[\"longitude\"]\n",
    "    \n",
    "    yelp_results = query_yelp(latitude, longitude)\n",
    "    for business in yelp_results:\n",
    "        if \"name\" in business and \"coordinates\" in business:\n",
    "            yelp_data.append({\n",
    "                \"station_name\": station_name,\n",
    "                \"poi_name\": business.get(\"name\"),\n",
    "                \"category\": business[\"categories\"][0][\"title\"] if business.get(\"categories\") else None,\n",
    "                \"rating\": business.get(\"rating\"),\n",
    "                \"review_count\": business.get(\"review_count\"),\n",
    "                \"latitude\": business[\"coordinates\"][\"latitude\"],\n",
    "                \"longitude\": business[\"coordinates\"][\"longitude\"]\n",
    "            })"
   ]
  },
  {
   "cell_type": "markdown",
   "metadata": {},
   "source": [
    "Put your parsed results into a DataFrame"
   ]
  },
  {
   "cell_type": "code",
   "execution_count": 33,
   "metadata": {},
   "outputs": [
    {
     "name": "stdout",
     "output_type": "stream",
     "text": [
      "Yelp DataFrame:\n",
      "            station_name                     poi_name    category  rating  \\\n",
      "0       #00013-GELLE FRA  Brauerei - Big Beer Company  Brasseries     3.4   \n",
      "1     #00077-FUNICULAIRE  Brauerei - Big Beer Company  Brasseries     3.4   \n",
      "2  #00038-HELLEG GEESCHT  Brauerei - Big Beer Company  Brasseries     3.4   \n",
      "3          #00004-ROCADE  Brauerei - Big Beer Company  Brasseries     3.4   \n",
      "4          #00016-AMELIE  Brauerei - Big Beer Company  Brasseries     3.4   \n",
      "\n",
      "   review_count   latitude  longitude  \n",
      "0             5  49.612585   6.142349  \n",
      "1             5  49.612585   6.142349  \n",
      "2             5  49.612585   6.142349  \n",
      "3             5  49.612585   6.142349  \n",
      "4             5  49.612585   6.142349  \n"
     ]
    }
   ],
   "source": [
    "## Create a DataFrame for Yelp data\n",
    "yelp_df = pd.DataFrame(yelp_data)\n",
    "print(\"Yelp DataFrame:\")\n",
    "print(yelp_df.head())\n"
   ]
  },
  {
   "cell_type": "markdown",
   "metadata": {},
   "source": [
    "# Comparing Results"
   ]
  },
  {
   "cell_type": "code",
   "execution_count": 34,
   "metadata": {},
   "outputs": [
    {
     "name": "stdout",
     "output_type": "stream",
     "text": [
      "Number of POIs from Foursquare: 6698\n",
      "Number of POIs from Yelp: 37\n",
      "\n",
      "Yelp - Average Rating: 3.40\n",
      "Yelp - Average Reviews: 5.00\n",
      "\n",
      "Foursquare provided more POIs.\n",
      "\n",
      "Data saved to CSV files: foursquare_pois.csv and yelp_pois.csv\n"
     ]
    }
   ],
   "source": [
    " ## load dataframe yelp and foursquare\n",
    "yelp_df = pd.DataFrame(yelp_data)\n",
    "## load foursquare dataframe\n",
    "foursquare_df = pd.DataFrame(foursquare_data)\n",
    "\n",
    "\n",
    "\n",
    "# Compare the number of POIs retrieved\n",
    "print(f\"Number of POIs from Foursquare: {len(foursquare_df)}\")\n",
    "print(f\"Number of POIs from Yelp: {len(yelp_df)}\")\n",
    "\n",
    "# Compare data richness (Yelp: Ratings and Reviews)\n",
    "if not yelp_df.empty:\n",
    "    avg_rating = yelp_df[\"rating\"].mean()\n",
    "    avg_reviews = yelp_df[\"review_count\"].mean()\n",
    "    print(f\"\\nYelp - Average Rating: {avg_rating:.2f}\")\n",
    "    print(f\"Yelp - Average Reviews: {avg_reviews:.2f}\")\n",
    "\n",
    "# Observations\n",
    "if len(foursquare_df) > len(yelp_df):\n",
    "    print(\"\\nFoursquare provided more POIs.\")\n",
    "else:\n",
    "    print(\"\\nYelp provided more POIs.\")\n",
    "\n",
    "# Save both DataFrames for further use\n",
    "foursquare_df.to_csv(\"foursquare_pois.csv\", index=False)\n",
    "yelp_df.to_csv(\"yelp_pois.csv\", index=False)\n",
    "print(\"\\nData saved to CSV files: foursquare_pois.csv and yelp_pois.csv\")\n"
   ]
  },
  {
   "cell_type": "markdown",
   "metadata": {},
   "source": [
    "Which API provided you with more complete data? Provide an explanation. "
   ]
  },
  {
   "cell_type": "markdown",
   "metadata": {},
   "source": []
  },
  {
   "cell_type": "markdown",
   "metadata": {},
   "source": [
    "Get the top 10 restaurants according to their rating"
   ]
  },
  {
   "cell_type": "code",
   "execution_count": 22,
   "metadata": {},
   "outputs": [
    {
     "name": "stdout",
     "output_type": "stream",
     "text": [
      "Top 10 Restaurants by Rating:\n",
      "Empty DataFrame\n",
      "Columns: [poi_name, rating, review_count, station_name]\n",
      "Index: []\n"
     ]
    }
   ],
   "source": [
    "# Filter Yelp DataFrame for restaurants only\n",
    "restaurants_yelp = yelp_df[yelp_df[\"category\"].str.contains(\"restaurant\", case=False, na=False)]\n",
    "\n",
    "# Sort by rating and get the top 10 restaurants\n",
    "top_10_restaurants = restaurants_yelp.sort_values(by=\"rating\", ascending=False).head(10)\n",
    "\n",
    "print(\"Top 10 Restaurants by Rating:\")\n",
    "print(top_10_restaurants[[\"poi_name\", \"rating\", \"review_count\", \"station_name\"]])\n"
   ]
  }
 ],
 "metadata": {
  "kernelspec": {
   "display_name": "base",
   "language": "python",
   "name": "python3"
  },
  "language_info": {
   "codemirror_mode": {
    "name": "ipython",
    "version": 3
   },
   "file_extension": ".py",
   "mimetype": "text/x-python",
   "name": "python",
   "nbconvert_exporter": "python",
   "pygments_lexer": "ipython3",
   "version": "3.12.7"
  }
 },
 "nbformat": 4,
 "nbformat_minor": 4
}
