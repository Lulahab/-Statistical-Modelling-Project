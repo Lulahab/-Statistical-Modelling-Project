{
 "cells": [
  {
   "cell_type": "code",
   "execution_count": 49,
   "metadata": {},
   "outputs": [
    {
     "name": "stdout",
     "output_type": "stream",
     "text": [
      "API keys loaded successfully!\n"
     ]
    }
   ],
   "source": [
    "# imports\n",
    "# Import necessary libraries\n",
    "import requests  # For API requests\n",
    "import pandas as pd  # For data handling\n",
    "from dotenv  import load_dotenv # For loading .env variables\n",
    "import os # For accessing environment variables\n",
    "\n",
    "# Load environment variables from .env file\n",
    "load_dotenv()\n",
    "\n",
    "# Load API keys\n",
    "FOURSQUARE_API_KEY = os.getenv(\"FOURSQUARE_API_KEY\")\n",
    "\n",
    "# Verify API keys\n",
    "if FOURSQUARE_API_KEY:\n",
    "    print(\"API keys loaded successfully!\")\n",
    "else:\n",
    "    print(\"Error: API keys not loaded. Check your .env file.\")"
   ]
  },
  {
   "cell_type": "markdown",
   "metadata": {},
   "source": [
    "# Foursquare"
   ]
  },
  {
   "cell_type": "markdown",
   "metadata": {},
   "source": [
    "Send a request to Foursquare with a small radius (1000m) for all the bike stations in your city of choice. "
   ]
  },
  {
   "cell_type": "code",
   "execution_count": 50,
   "metadata": {},
   "outputs": [],
   "source": [
    "\n",
    "# Foursquare API setup\n",
    "foursquare_url = \"https://api.foursquare.com/v3/places/search\"\n",
    "headers = {\"Authorization\": FOURSQUARE_API_KEY,\n",
    "           \"accept\":\"application/json\"}\n",
    "\n",
    "def query_foursquare(latitude, longitude, radius=1000, category=\"13065,13003\"):\n",
    "    \"\"\"\n",
    "    Query Foursquare API for POIs near a given latitude and longitude.\n",
    "    \"\"\"\n",
    "    params = {\n",
    "        \"ll\": f\"{latitude},{longitude}\",  # Latitude and longitude\n",
    "        \"radius\": radius,  # Search radius in meters\n",
    "        \"categories\": category,  # Restaurants/Bars\n",
    "        \"limit\": 50  # Number of results\n",
    "    }\n",
    "    try:\n",
    "        response = requests.get(foursquare_url, headers=headers, params=params, timeout = 300)\n",
    "        response.raise_for_status()\n",
    "        return response.json().get(\"results\", [])\n",
    "    except requests.exceptions.RequestException as e:\n",
    "        print(f\"Foursquare API Error: {e}\")\n",
    "    return []\n",
    "\n",
    "\n"
   ]
  },
  {
   "cell_type": "markdown",
   "metadata": {},
   "source": [
    "Parse through the response to get the POI (such as restaurants, bars, etc) details you want (ratings, name, location, etc)"
   ]
  },
  {
   "cell_type": "code",
   "execution_count": 51,
   "metadata": {},
   "outputs": [],
   "source": [
    "# Load bike station data\n",
    "station_df = pd.read_csv(\"luxembourg_bike_stations.csv\")\n",
    "\n",
    "# Store Foursquare data\n",
    "foursquare_data = []\n",
    "\n",
    "# Loop through bike stations and query Foursquare\n",
    "for _, row in station_df.iterrows():\n",
    "    station_name = row[\"station_name\"]\n",
    "    latitude = row[\"latitude\"]\n",
    "    longitude = row[\"longitude\"]\n",
    "    \n",
    "    fsq_results = query_foursquare(latitude, longitude)\n",
    "    for result in fsq_results:\n",
    "        if \"name\" in result and \"geocodes\" in result and \"main\" in result[\"geocodes\"]:\n",
    "            foursquare_data.append({\n",
    "                \"station_name\": station_name,\n",
    "                \"poi_name\": result.get(\"name\"),\n",
    "                \"category\": result[\"categories\"][0][\"name\"] if result.get(\"categories\") else None,\n",
    "                \"latitude\": result[\"geocodes\"][\"main\"][\"latitude\"],\n",
    "                \"longitude\": result[\"geocodes\"][\"main\"][\"longitude\"]\n",
    "            })\n"
   ]
  },
  {
   "cell_type": "markdown",
   "metadata": {},
   "source": [
    "Put your parsed results into a DataFrame"
   ]
  },
  {
   "cell_type": "code",
   "execution_count": 52,
   "metadata": {},
   "outputs": [
    {
     "name": "stdout",
     "output_type": "stream",
     "text": [
      "Foursquare DataFrame:\n",
      "                     station_name                poi_name  \\\n",
      "0  #00126-SALLES DES FÊTES HOLZEM       Restaurant Papaya   \n",
      "1                    #00109-FOYER  Burger King Leudelange   \n",
      "2                    #00109-FOYER      Il Punto Delizioso   \n",
      "3                    #00109-FOYER                 El Gato   \n",
      "4                    #00109-FOYER    Les Espaces Réunions   \n",
      "\n",
      "               category   latitude  longitude  \n",
      "0      Sushi Restaurant  49.616679   5.993284  \n",
      "1  Fast Food Restaurant  49.567216   6.079689  \n",
      "2              Pizzeria  49.565284   6.080453  \n",
      "3    Spanish Restaurant  49.567357   6.082029  \n",
      "4     French Restaurant  49.563044   6.072636  \n"
     ]
    }
   ],
   "source": [
    " ##Create a DataFrame for Foursquare data\n",
    "foursquare_df = pd.DataFrame(foursquare_data)\n",
    "print(\"Foursquare DataFrame:\")\n",
    "print(foursquare_df.head())"
   ]
  },
  {
   "cell_type": "code",
   "execution_count": null,
   "metadata": {},
   "outputs": [],
   "source": [
    "\n"
   ]
  },
  {
   "cell_type": "markdown",
   "metadata": {},
   "source": [
    "# Yelp"
   ]
  },
  {
   "cell_type": "markdown",
   "metadata": {},
   "source": [
    "Send a request to Yelp with a small radius (1000m) for all the bike stations in your city of choice. "
   ]
  },
  {
   "cell_type": "code",
   "execution_count": 60,
   "metadata": {},
   "outputs": [
    {
     "name": "stdout",
     "output_type": "stream",
     "text": [
      "API keys loaded successfully!\n"
     ]
    }
   ],
   "source": [
    "# Yelp API setup\n",
    "# Load environment variables from .env file\n",
    "import requests\n",
    "from dotenv import load_dotenv\n",
    "import os\n",
    "\n",
    "load_dotenv()\n",
    "\n",
    "# Load API keys\n",
    "YELP_API_KEY = os.getenv(\"YELP_API_KEY\")\n",
    "\n",
    "# Verify API keys\n",
    "if YELP_API_KEY:\n",
    "    print(\"API keys loaded successfully!\")\n",
    "else:\n",
    "    print(\"Error: API keys not loaded. Check your .env file.\")\n",
    "yelp_url = \"https://api.yelp.com/v3/businesses/search\"\n",
    "yelp_headers = {\"Authorization\": f\"Bearer {YELP_API_KEY}\"}\n",
    "\n",
    "def query_yelp(latitude, longitude, radius=1000, categories=None):\n",
    "    if categories is None:\n",
    "        categories=[\"Restaurants\",\"bars\"]\n",
    "    \"\"\"\n",
    "    Query Yelp API for POIs near a given latitude and longitude.\n",
    "    \"\"\"\n",
    "    params = {\n",
    "        \"latitude\": latitude,\n",
    "        \"longitude\": longitude,\n",
    "        \"radius\": radius,\n",
    "        \"categories\": categories,\n",
    "        \"limit\": 50  # Number of results\n",
    "    }\n",
    "    try:\n",
    "        response = requests.get(yelp_url, headers=yelp_headers, params=params)\n",
    "        response.raise_for_status()\n",
    "        return response.json().get(\"businesses\", [])\n",
    "    except requests.exceptions.RequestException as e:\n",
    "        print(f\"Yelp API Error: {e}\")\n",
    "        return []\n",
    "\n",
    "\n"
   ]
  },
  {
   "cell_type": "markdown",
   "metadata": {},
   "source": [
    "Parse through the response to get the POI (such as restaurants, bars, etc) details you want (ratings, name, location, etc)"
   ]
  },
  {
   "cell_type": "code",
   "execution_count": 54,
   "metadata": {},
   "outputs": [],
   "source": [
    " ##Load bike station data\n",
    "import pandas as pd\n",
    "station_df = pd.read_csv(\"luxembourg_bike_stations.csv\")\n",
    "\n",
    "## Store Yelp data\n",
    "yelp_data = []\n",
    "\n",
    "# Loop through bike stations and query Yelp\n",
    "for _, row in station_df.iterrows():\n",
    "    station_name = row[\"station_name\"]\n",
    "    latitude = row[\"latitude\"]\n",
    "    longitude = row[\"longitude\"]\n",
    "    \n",
    "    yelp_results = query_yelp(latitude, longitude)\n",
    "    for business in yelp_results:\n",
    "        if \"name\" in business and \"coordinates\" in business:\n",
    "            yelp_data.append({\n",
    "                \"station_name\": station_name,\n",
    "                \"poi_name\": business.get(\"name\"),\n",
    "                \"category\": business[\"categories\"][0][\"title\"] if business.get(\"categories\") else None,\n",
    "                \"rating\": business.get(\"rating\"),\n",
    "                \"review_count\": business.get(\"review_count\"),\n",
    "                \"latitude\": business[\"coordinates\"][\"latitude\"],\n",
    "                \"longitude\": business[\"coordinates\"][\"longitude\"]\n",
    "            })"
   ]
  },
  {
   "cell_type": "markdown",
   "metadata": {},
   "source": [
    "Put your parsed results into a DataFrame"
   ]
  },
  {
   "cell_type": "code",
   "execution_count": 62,
   "metadata": {},
   "outputs": [
    {
     "name": "stdout",
     "output_type": "stream",
     "text": [
      "Yelp DataFrame:\n",
      "            station_name                     poi_name    category  rating  \\\n",
      "0       #00013-GELLE FRA  Brauerei - Big Beer Company  Brasseries     3.4   \n",
      "1     #00077-FUNICULAIRE  Brauerei - Big Beer Company  Brasseries     3.4   \n",
      "2  #00038-HELLEG GEESCHT  Brauerei - Big Beer Company  Brasseries     3.4   \n",
      "3          #00004-ROCADE  Brauerei - Big Beer Company  Brasseries     3.4   \n",
      "4          #00016-AMELIE  Brauerei - Big Beer Company  Brasseries     3.4   \n",
      "\n",
      "   review_count   latitude  longitude  \n",
      "0             5  49.612585   6.142349  \n",
      "1             5  49.612585   6.142349  \n",
      "2             5  49.612585   6.142349  \n",
      "3             5  49.612585   6.142349  \n",
      "4             5  49.612585   6.142349  \n"
     ]
    }
   ],
   "source": [
    "## Create a DataFrame for Yelp data\n",
    "yelp_df = pd.DataFrame(yelp_data)\n",
    "print(\"Yelp DataFrame:\")\n",
    "print(yelp_df.head())\n"
   ]
  },
  {
   "cell_type": "code",
   "execution_count": 63,
   "metadata": {},
   "outputs": [
    {
     "data": {
      "text/plain": [
       "(37, 7)"
      ]
     },
     "execution_count": 63,
     "metadata": {},
     "output_type": "execute_result"
    }
   ],
   "source": [
    "yelp_df.shape"
   ]
  },
  {
   "cell_type": "markdown",
   "metadata": {},
   "source": [
    "# Comparing Results"
   ]
  },
  {
   "cell_type": "code",
   "execution_count": 56,
   "metadata": {},
   "outputs": [
    {
     "name": "stdout",
     "output_type": "stream",
     "text": [
      "Number of POIs from Foursquare: 5492\n",
      "Number of POIs from Yelp: 37\n",
      "\n",
      "Yelp - Average Rating: 3.40\n",
      "Yelp - Average Reviews: 5.00\n",
      "\n",
      "Foursquare provided more POIs.\n",
      "\n",
      "Data saved to CSV files: foursquare_pois.csv and yelp_pois.csv\n"
     ]
    }
   ],
   "source": [
    " ## load dataframe yelp and foursquare\n",
    "yelp_df = pd.DataFrame(yelp_data)\n",
    "## load foursquare dataframe\n",
    "foursquare_df = pd.DataFrame(foursquare_data)\n",
    "\n",
    "\n",
    "\n",
    "# Compare the number of POIs retrieved\n",
    "print(f\"Number of POIs from Foursquare: {len(foursquare_df)}\")\n",
    "print(f\"Number of POIs from Yelp: {len(yelp_df)}\")\n",
    "\n",
    "# Compare data richness (Yelp: Ratings and Reviews)\n",
    "if not yelp_df.empty:\n",
    "    avg_rating = yelp_df[\"rating\"].mean()\n",
    "    avg_reviews = yelp_df[\"review_count\"].mean()\n",
    "    print(f\"\\nYelp - Average Rating: {avg_rating:.2f}\")\n",
    "    print(f\"Yelp - Average Reviews: {avg_reviews:.2f}\")\n",
    "\n",
    "# Observations\n",
    "if len(foursquare_df) > len(yelp_df):\n",
    "    print(\"\\nFoursquare provided more POIs.\")\n",
    "else:\n",
    "    print(\"\\nYelp provided more POIs.\")\n",
    "\n",
    "# Save both DataFrames for further use\n",
    "foursquare_df.to_csv(\"foursquare_pois.csv\", index=False)\n",
    "yelp_df.to_csv(\"yelp_pois.csv\", index=False)\n",
    "print(\"\\nData saved to CSV files: foursquare_pois.csv and yelp_pois.csv\")\n"
   ]
  },
  {
   "cell_type": "markdown",
   "metadata": {},
   "source": [
    "Which API provided you with more complete data? Provide an explanation. "
   ]
  },
  {
   "cell_type": "markdown",
   "metadata": {},
   "source": []
  },
  {
   "cell_type": "markdown",
   "metadata": {},
   "source": [
    "Get the top 10 restaurants according to their rating"
   ]
  },
  {
   "cell_type": "code",
   "execution_count": 57,
   "metadata": {},
   "outputs": [
    {
     "name": "stdout",
     "output_type": "stream",
     "text": [
      "Top 10 Restaurants by Rating:\n",
      "Empty DataFrame\n",
      "Columns: [poi_name, rating, review_count, station_name]\n",
      "Index: []\n"
     ]
    }
   ],
   "source": [
    "# Filter Yelp DataFrame for restaurants only\n",
    "restaurants_yelp = yelp_df[yelp_df[\"category\"].str.contains(\"restaurant\", case=False, na=False)]\n",
    "\n",
    "# Sort by rating and get the top 10 restaurants\n",
    "top_10_restaurants = restaurants_yelp.sort_values(by=\"rating\", ascending=False).head(10)\n",
    "\n",
    "print(\"Top 10 Restaurants by Rating:\")\n",
    "print(top_10_restaurants[[\"poi_name\", \"rating\", \"review_count\", \"station_name\"]])\n"
   ]
  }
 ],
 "metadata": {
  "kernelspec": {
   "display_name": "base",
   "language": "python",
   "name": "python3"
  },
  "language_info": {
   "codemirror_mode": {
    "name": "ipython",
    "version": 3
   },
   "file_extension": ".py",
   "mimetype": "text/x-python",
   "name": "python",
   "nbconvert_exporter": "python",
   "pygments_lexer": "ipython3",
   "version": "3.12.7"
  }
 },
 "nbformat": 4,
 "nbformat_minor": 4
}
