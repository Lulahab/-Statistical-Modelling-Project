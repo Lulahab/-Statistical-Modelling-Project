{
 "cells": [
  {
   "cell_type": "code",
   "execution_count": 1,
   "metadata": {},
   "outputs": [
    {
     "name": "stdout",
     "output_type": "stream",
     "text": [
      "API keys loaded successfully!\n",
      "Bike Stations DataFrame:\n",
      "                     station_name   latitude  longitude  available_bikes\n",
      "0  #00126-SALLES DES FÊTES HOLZEM  49.615901   5.993194                9\n",
      "1                    #00109-FOYER  49.569178   6.081750                2\n",
      "2     #00053-LUDWIG VAN BEETHOVEN  49.590000   6.117200                2\n",
      "3                #00013-GELLE FRA  49.609510   6.128503                4\n",
      "4         #00116-CHARLY'S STATION  49.649823   6.225796                2\n"
     ]
    }
   ],
   "source": [
    "import requests  # For making API requests\n",
    "import pandas as pd  # For managing and analyzing data\n",
    "from dotenv import load_dotenv  # To load environment variables\n",
    "import os  # To access environment variables\n",
    "\n",
    "# Load environment variables from the .env file\n",
    "load_dotenv()\n",
    "load_dotenv()\n",
    "\n",
    "# Retrieve API keys\n",
    "FOURSQUARE_API_KEY = os.getenv(\"FOURSQUARE_API_KEY\")\n",
    "YELP_API_KEY = os.getenv(\"YELP_API_KEY\")\n",
    "\n",
    "# Verify if API keys are loaded\n",
    "if FOURSQUARE_API_KEY and YELP_API_KEY:\n",
    "    print(\"API keys loaded successfully!\")\n",
    "else:\n",
    "    raise Exception(\"Error: API keys not loaded. Check your .env file.\")\n",
    "\n",
    "\n",
    "# Load bike station data (CSV created in Part 1)\n",
    "station_df = pd.read_csv(\"luxembourg_bike_stations.csv\")\n",
    "\n",
    "# Display the first few rows to verify the data\n",
    "print(\"Bike Stations DataFrame:\")\n",
    "print(station_df.head())\n",
    "\n",
    "# Foursquare API setup\n",
    "foursquare_url = \"https://api.foursquare.com/v3/places/search\"\n",
    "foursquare_headers = {\"Authorization\": FOURSQUARE_API_KEY}\n",
    "\n",
    "def query_foursquare(latitude, longitude, radius=1000, category=\"13065\"):\n",
    "    \"\"\"\n",
    "    Query Foursquare API for POIs near a given latitude and longitude.\n",
    "    \"\"\"\n",
    "    params = {\n",
    "        \"ll\": f\"{latitude},{longitude}\",  # Latitude and longitude\n",
    "        \"radius\": radius,  # Search radius in meters\n",
    "        \"categories\": category,  # Restaurants/Bars\n",
    "        \"limit\": 50  # Number of results\n",
    "    }\n",
    "    params = {\n",
    "        \n",
    "    }\n",
    "    try:\n",
    "        response = requests.get(foursquare_url, headers=foursquare_headers, params=params)\n",
    "        response.raise_for_status()\n",
    "        return response.json().get(\"results\", [])\n",
    "    except requests.exceptions.RequestException as e:\n",
    "        print(f\"Foursquare API Error: {e}\")\n",
    "        return []\n",
    "\n",
    "\n",
    "\n"
   ]
  }
 ],
 "metadata": {
  "kernelspec": {
   "display_name": "base",
   "language": "python",
   "name": "python3"
  },
  "language_info": {
   "codemirror_mode": {
    "name": "ipython",
    "version": 3
   },
   "file_extension": ".py",
   "mimetype": "text/x-python",
   "name": "python",
   "nbconvert_exporter": "python",
   "pygments_lexer": "ipython3",
   "version": "3.12.7"
  }
 },
 "nbformat": 4,
 "nbformat_minor": 2
}
